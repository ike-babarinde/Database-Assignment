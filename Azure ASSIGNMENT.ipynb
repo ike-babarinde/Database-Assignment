{
 "cells": [
  {
   "cell_type": "code",
   "execution_count": 2,
   "metadata": {},
   "outputs": [],
   "source": [
    "import pymongo"
   ]
  },
  {
   "cell_type": "code",
   "execution_count": 3,
   "metadata": {},
   "outputs": [
    {
     "name": "stdout",
     "output_type": "stream",
     "text": [
      "Requirement already satisfied: pymongo in c:\\users\\hp\\anaconda3\\lib\\site-packages (3.11.3)Note: you may need to restart the kernel to use updated packages.\n",
      "\n"
     ]
    }
   ],
   "source": [
    "pip install pymongo"
   ]
  },
  {
   "cell_type": "code",
   "execution_count": 3,
   "metadata": {},
   "outputs": [],
   "source": [
    "myclient = pymongo.MongoClient(\"mongodb://ikebabarinde:KZ5sLBjBkDn7GpL3OaBwkW22xoKrghRsfLpN562Zgye83w2CFz0pKPc1Fomoord2AQ8MDXmquYnV5okzbtxm7g==@ikebabarinde.mongo.cosmos.azure.com:10255/?ssl=true&replicaSet=globaldb&retrywrites=false&maxIdleTimeMS=120000&appName=@ikebabarinde@\")\n"
   ]
  },
  {
   "cell_type": "code",
   "execution_count": 4,
   "metadata": {},
   "outputs": [],
   "source": [
    "from pymongo import MongoClient\n",
    "client = MongoClient()"
   ]
  },
  {
   "cell_type": "code",
   "execution_count": 7,
   "metadata": {},
   "outputs": [
    {
     "ename": "NameError",
     "evalue": "name 'true' is not defined",
     "output_type": "error",
     "traceback": [
      "\u001b[1;31m---------------------------------------------------------------------------\u001b[0m",
      "\u001b[1;31mNameError\u001b[0m                                 Traceback (most recent call last)",
      "\u001b[1;32m<ipython-input-7-28544598dc61>\u001b[0m in \u001b[0;36m<module>\u001b[1;34m\u001b[0m\n\u001b[0;32m     16\u001b[0m  \u001b[0mprint\u001b[0m\u001b[1;33m(\u001b[0m\u001b[0mx\u001b[0m\u001b[1;33m)\u001b[0m\u001b[1;33m\u001b[0m\u001b[1;33m\u001b[0m\u001b[0m\n\u001b[0;32m     17\u001b[0m \u001b[1;33m\u001b[0m\u001b[0m\n\u001b[1;32m---> 18\u001b[1;33m \u001b[0mssl\u001b[0m \u001b[1;33m=\u001b[0m \u001b[0mtrue\u001b[0m\u001b[1;33m\u001b[0m\u001b[1;33m\u001b[0m\u001b[0m\n\u001b[0m",
      "\u001b[1;31mNameError\u001b[0m: name 'true' is not defined"
     ]
    }
   ],
   "source": [
    "#client = pymongo.MongoClient(\"mongodb://localhost:27017/\")\n",
    "#mydb = client[\"mydatabase\"]\n",
    "#col = mydb[\"states\"]\n",
    "#x = col.find_one()\n",
    "\n",
    "#print(x)\n",
    "\n",
    "\n",
    "#x = col.find()\n",
    "\n",
    "#print(x)\n",
    "\n",
    "\n",
    "\n",
    "#for x in col.find({},{ \"_id\": 0, \"state\":1, \"state force population\":1 }):\n",
    " #print(x)\n",
    "\n",
    "#ssl = true"
   ]
  },
  {
   "cell_type": "code",
   "execution_count": 9,
   "metadata": {},
   "outputs": [
    {
     "name": "stdout",
     "output_type": "stream",
     "text": [
      "[ObjectId('604555595af809cd6ebf3d04'), ObjectId('604555595af809cd6ebf3d05'), ObjectId('604555595af809cd6ebf3d06'), ObjectId('604555595af809cd6ebf3d07'), ObjectId('604555595af809cd6ebf3d08'), ObjectId('604555595af809cd6ebf3d09'), ObjectId('604555595af809cd6ebf3d0a'), ObjectId('604555595af809cd6ebf3d0b'), ObjectId('604555595af809cd6ebf3d0c'), ObjectId('604555595af809cd6ebf3d0d'), ObjectId('604555595af809cd6ebf3d0e'), ObjectId('604555595af809cd6ebf3d0f'), ObjectId('604555595af809cd6ebf3d10'), ObjectId('604555595af809cd6ebf3d11'), ObjectId('604555595af809cd6ebf3d12'), ObjectId('604555595af809cd6ebf3d13'), ObjectId('604555595af809cd6ebf3d14'), ObjectId('604555595af809cd6ebf3d15'), ObjectId('604555595af809cd6ebf3d16'), ObjectId('604555595af809cd6ebf3d17'), ObjectId('604555595af809cd6ebf3d18'), ObjectId('604555595af809cd6ebf3d19'), ObjectId('604555595af809cd6ebf3d1a'), ObjectId('604555595af809cd6ebf3d1b'), ObjectId('604555595af809cd6ebf3d1c'), ObjectId('604555595af809cd6ebf3d1d'), ObjectId('604555595af809cd6ebf3d1e'), ObjectId('604555595af809cd6ebf3d1f'), ObjectId('604555595af809cd6ebf3d20'), ObjectId('604555595af809cd6ebf3d21'), ObjectId('604555595af809cd6ebf3d22'), ObjectId('604555595af809cd6ebf3d23'), ObjectId('604555595af809cd6ebf3d24'), ObjectId('604555595af809cd6ebf3d25'), ObjectId('604555595af809cd6ebf3d26'), ObjectId('604555595af809cd6ebf3d27'), ObjectId('604555595af809cd6ebf3d28'), ObjectId('604555595af809cd6ebf3d29'), ObjectId('604555595af809cd6ebf3d2a')]\n"
     ]
    }
   ],
   "source": [
    "client = pymongo.MongoClient(\"mongodb://ikebabarinde:KZ5sLBjBkDn7GpL3OaBwkW22xoKrghRsfLpN562Zgye83w2CFz0pKPc1Fomoord2AQ8MDXmquYnV5okzbtxm7g==@ikebabarinde.mongo.cosmos.azure.com:10255/?ssl=true&replicaSet=globaldb&retrywrites=false&maxIdleTimeMS=120000&appName=@ikebabarinde@\")\n",
    "mydb = client[\"mydatabase\"]\n",
    "col = mydb[\"states\"]\n",
    "mylist = [\n",
    "  { \"state\": \"Abia\", \"state force population\": \" 1,919,458\" },\n",
    "  { \"state\": \"Adamawa\", \"state force population\": \"1,445,800\"}, \n",
    "    { \"state\": \"Akwa Ibom\", \"state force population\": \"3,217,171\"},\n",
    "    { \"state\": \"Anambra\", \"state force population\": \"3,009,646\"},\n",
    "        { \"state\": \"Bauchi\", \"state force population\": \"1,825,977\"},\n",
    "        { \"state\": \"Bayelsa\", \"state force population\": \"1,225,375\"},\n",
    "        { \"state\": \"Benue\", \"state force population\": \"2,368,743\"},\n",
    "        { \"state\": \"Borno\", \"state force population\": \"2,204,832\"},\n",
    "        { \"state\": \"Cross River\", \"state force population\": \"1,747,085\"},\n",
    "        { \"state\": \"Delta\", \"state force population\": \"2,852,244\"},\n",
    "        { \"state\": \"Ebonyi\", \"state force population\": \"1,397,158\"},\n",
    "        { \"state\": \"Anambra\", \"state force population\": \"3,009,646\"},\n",
    "        { \"state\": \"Edo\", \"state force population\": \"1,923,837\"},\n",
    "        { \"state\": \"Ekiti\", \"state force population\": \"1,676,724\"},\n",
    "        { \"state\": \"Enugu\", \"state force population\": \"2,296,296\"},\n",
    "        { \"state\": \"Gombe\", \"state force population\": \"816,956\"},\n",
    "        { \"state\": \"Imo\", \"state force population\": \"2,840,619\"},\n",
    "        { \"state\": \"Jigawa\", \"state force population\": \"1,369,716\"},\n",
    "        { \"state\": \"Kaduna\", \"state force population\": \"3,163,022\"},\n",
    "        { \"state\": \"Kano\", \"state force population\": \"3,604,743\"},\n",
    "        { \"state\": \"Katsina\", \"state force population\": \"1,667,1406\"},\n",
    "        { \"state\": \"Kebbi\", \"state force population\": \"1,434,057\"},\n",
    "        { \"state\": \"Kogi\", \"state force population\": \"2,252,143\"},\n",
    "        { \"state\": \"Kwara\", \"state force population\": \"1,467,465\"},\n",
    "        { \"state\": \"Lagos\", \"state force population\": \"6,909,301\"},\n",
    "        { \"state\": \"Lagos\", \"state force population\": \"6,909,301\"},\n",
    "        { \"state\": \"Nasarawa\", \"state force population\": \"1,236,654\"},\n",
    "        { \"state\": \"Niger\", \"state force population\": \"1,756,668\"},\n",
    "        { \"state\": \"Ogun\", \"state force population\": \"2,922,932\"},\n",
    "        { \"state\": \"Ondo\", \"state force population\": \"2,320,211\"},\n",
    "        { \"state\": \"Osun\", \"state force population\": \"2,296,230\"},\n",
    "        { \"state\": \"Oyo\", \"state force population\": \"3,792,840\"},\n",
    "        { \"state\": \"Plateau\", \"state force population\": \"1,885,617\"},\n",
    "        { \"state\": \"Rivers\", \"state force population\": \"4,175,796\"},\n",
    "        { \"state\": \"Sokoto\", \"state force population\": \"1,520,392\"},\n",
    "        { \"state\": \"Taraba\", \"state force population\": \"2,101,774\"},\n",
    "    { \"state\": \"Yobe\", \"state force population\": \"1,006,850\"},\n",
    "    { \"state\": \"Zamfara\", \"state force population\": \"1,361,270\"},\n",
    "    { \"state\": \"Fct, Abuja\", \"state force population\": \"1,579,381\"},\n",
    "]\n",
    "    \n",
    "x = col.insert_many(mylist)\n",
    "\n",
    "#print list of the _id values of the inserted documents:\n",
    "print(x.inserted_ids)"
   ]
  },
  {
   "cell_type": "code",
   "execution_count": 14,
   "metadata": {},
   "outputs": [
    {
     "name": "stdout",
     "output_type": "stream",
     "text": [
      "{'_id': ObjectId('6034f5b8f7ff0dbf816fb1e1'), 'state': 'Abia', 'state force population': ' 1,919,458'}\n",
      "{'_id': ObjectId('6034f5b8f7ff0dbf816fb1e2'), 'state': 'Adamawa', 'state force population': '1,445,800'}\n",
      "{'_id': ObjectId('6034f5b8f7ff0dbf816fb1e3'), 'state': 'Akwa Ibom', 'state force population': '3,217,171'}\n",
      "{'_id': ObjectId('6034f5b8f7ff0dbf816fb1e4'), 'state': 'Anambra', 'state force population': '3,009,646'}\n",
      "{'_id': ObjectId('6034f5b8f7ff0dbf816fb1e5'), 'state': 'Bauchi', 'state force population': '1,825,977'}\n",
      "{'_id': ObjectId('6034f5b8f7ff0dbf816fb1e6'), 'state': 'Bayelsa', 'state force population': '1,225,375'}\n",
      "{'_id': ObjectId('6034f5b8f7ff0dbf816fb1e7'), 'state': 'Benue', 'state force population': '2,368,743'}\n",
      "{'_id': ObjectId('6034f5b8f7ff0dbf816fb1e8'), 'state': 'Borno', 'state force population': '2,204,832'}\n",
      "{'_id': ObjectId('6034f5b8f7ff0dbf816fb1e9'), 'state': 'Cross River', 'state force population': '1,747,085'}\n",
      "{'_id': ObjectId('6034f5b8f7ff0dbf816fb1ea'), 'state': 'Delta', 'state force population': '2,852,244'}\n",
      "{'_id': ObjectId('6034f5b8f7ff0dbf816fb1eb'), 'state': 'Ebonyi', 'state force population': '1,397,158'}\n",
      "{'_id': ObjectId('6034f5b8f7ff0dbf816fb1ec'), 'state': 'Anambra', 'state force population': '3,009,646'}\n",
      "{'_id': ObjectId('6034f5b8f7ff0dbf816fb1ed'), 'state': 'Edo', 'state force population': '1,923,837'}\n",
      "{'_id': ObjectId('6034f5b8f7ff0dbf816fb1ee'), 'state': 'Ekiti', 'state force population': '1,676,724'}\n",
      "{'_id': ObjectId('6034f5b8f7ff0dbf816fb1ef'), 'state': 'Enugu', 'state force population': '2,296,296'}\n",
      "{'_id': ObjectId('6034f5b8f7ff0dbf816fb1f0'), 'state': 'Gombe', 'state force population': '816,956'}\n",
      "{'_id': ObjectId('6034f5b8f7ff0dbf816fb1f1'), 'state': 'Imo', 'state force population': '2,840,619'}\n",
      "{'_id': ObjectId('6034f5b8f7ff0dbf816fb1f2'), 'state': 'Jigawa', 'state force population': '1,369,716'}\n",
      "{'_id': ObjectId('6034f5b8f7ff0dbf816fb1f3'), 'state': 'Kaduna', 'state force population': '3,163,022'}\n",
      "{'_id': ObjectId('6034f5b8f7ff0dbf816fb1f4'), 'state': 'Kano', 'state force population': '3,604,743'}\n",
      "{'_id': ObjectId('6034f5b8f7ff0dbf816fb1f5'), 'state': 'Katsina', 'state force population': '1,667,1406'}\n",
      "{'_id': ObjectId('6034f5b8f7ff0dbf816fb1f6'), 'state': 'Kebbi', 'state force population': '1,434,057'}\n",
      "{'_id': ObjectId('6034f5b8f7ff0dbf816fb1f7'), 'state': 'Kogi', 'state force population': '2,252,143'}\n",
      "{'_id': ObjectId('6034f5b8f7ff0dbf816fb1f8'), 'state': 'Kwara', 'state force population': '1,467,465'}\n",
      "{'_id': ObjectId('6034f5b8f7ff0dbf816fb1f9'), 'state': 'Lagos', 'state force population': '6,909,301'}\n",
      "{'_id': ObjectId('6034f5b8f7ff0dbf816fb1fa'), 'state': 'Lagos', 'state force population': '6,909,301'}\n",
      "{'_id': ObjectId('6034f5b8f7ff0dbf816fb1fb'), 'state': 'Nasarawa', 'state force population': '1,236,654'}\n",
      "{'_id': ObjectId('6034f5b8f7ff0dbf816fb1fc'), 'state': 'Niger', 'state force population': '1,756,668'}\n",
      "{'_id': ObjectId('6034f5b8f7ff0dbf816fb1fd'), 'state': 'Ogun', 'state force population': '2,922,932'}\n",
      "{'_id': ObjectId('6034f5b8f7ff0dbf816fb1fe'), 'state': 'Ondo', 'state force population': '2,320,211'}\n",
      "{'_id': ObjectId('6034f5b8f7ff0dbf816fb1ff'), 'state': 'Osun', 'state force population': '2,296,230'}\n",
      "{'_id': ObjectId('6034f5b8f7ff0dbf816fb200'), 'state': 'Oyo', 'state force population': '3,792,840'}\n",
      "{'_id': ObjectId('6034f5b8f7ff0dbf816fb201'), 'state': 'Plateau', 'state force population': '1,885,617'}\n",
      "{'_id': ObjectId('6034f5b8f7ff0dbf816fb202'), 'state': 'Rivers', 'state force population': '4,175,796'}\n",
      "{'_id': ObjectId('6034f5b8f7ff0dbf816fb203'), 'state': 'Sokoto', 'state force population': '1,520,392'}\n",
      "{'_id': ObjectId('6034f5b8f7ff0dbf816fb204'), 'state': 'Taraba', 'state force population': '2,101,774'}\n",
      "{'_id': ObjectId('6034f5b8f7ff0dbf816fb205'), 'state': 'Yobe', 'state force population': '1,006,850'}\n",
      "{'_id': ObjectId('6034f5b8f7ff0dbf816fb206'), 'state': 'Zamfara', 'state force population': '1,361,270'}\n",
      "{'_id': ObjectId('6034f5b8f7ff0dbf816fb207'), 'state': 'Fct, Abuja', 'state force population': '1,579,381'}\n",
      "{'_id': ObjectId('60398fd37997c2feb69bfe95'), 'state': 'Abia', 'state force population': ' 1,919,458'}\n",
      "{'_id': ObjectId('60398fd37997c2feb69bfe96'), 'state': 'Adamawa', 'state force population': '1,445,800'}\n",
      "{'_id': ObjectId('60398fd37997c2feb69bfe97'), 'state': 'Akwa Ibom', 'state force population': '3,217,171'}\n",
      "{'_id': ObjectId('60398fd37997c2feb69bfe98'), 'state': 'Anambra', 'state force population': '3,009,646'}\n",
      "{'_id': ObjectId('60398fd37997c2feb69bfe99'), 'state': 'Bauchi', 'state force population': '1,825,977'}\n",
      "{'_id': ObjectId('60398fd37997c2feb69bfe9a'), 'state': 'Bayelsa', 'state force population': '1,225,375'}\n",
      "{'_id': ObjectId('60398fd37997c2feb69bfe9b'), 'state': 'Benue', 'state force population': '2,368,743'}\n",
      "{'_id': ObjectId('60398fd37997c2feb69bfe9c'), 'state': 'Borno', 'state force population': '2,204,832'}\n",
      "{'_id': ObjectId('60398fd37997c2feb69bfe9d'), 'state': 'Cross River', 'state force population': '1,747,085'}\n",
      "{'_id': ObjectId('60398fd37997c2feb69bfe9e'), 'state': 'Delta', 'state force population': '2,852,244'}\n",
      "{'_id': ObjectId('60398fd37997c2feb69bfe9f'), 'state': 'Ebonyi', 'state force population': '1,397,158'}\n",
      "{'_id': ObjectId('60398fd37997c2feb69bfea0'), 'state': 'Anambra', 'state force population': '3,009,646'}\n",
      "{'_id': ObjectId('60398fd37997c2feb69bfea1'), 'state': 'Edo', 'state force population': '1,923,837'}\n",
      "{'_id': ObjectId('60398fd37997c2feb69bfea2'), 'state': 'Ekiti', 'state force population': '1,676,724'}\n",
      "{'_id': ObjectId('60398fd37997c2feb69bfea3'), 'state': 'Enugu', 'state force population': '2,296,296'}\n",
      "{'_id': ObjectId('60398fd37997c2feb69bfea4'), 'state': 'Gombe', 'state force population': '816,956'}\n",
      "{'_id': ObjectId('60398fd37997c2feb69bfea5'), 'state': 'Imo', 'state force population': '2,840,619'}\n",
      "{'_id': ObjectId('60398fd37997c2feb69bfea6'), 'state': 'Jigawa', 'state force population': '1,369,716'}\n",
      "{'_id': ObjectId('60398fd37997c2feb69bfea7'), 'state': 'Kaduna', 'state force population': '3,163,022'}\n",
      "{'_id': ObjectId('60398fd37997c2feb69bfea8'), 'state': 'Kano', 'state force population': '3,604,743'}\n",
      "{'_id': ObjectId('60398fd37997c2feb69bfea9'), 'state': 'Katsina', 'state force population': '1,667,1406'}\n",
      "{'_id': ObjectId('60398fd37997c2feb69bfeaa'), 'state': 'Kebbi', 'state force population': '1,434,057'}\n",
      "{'_id': ObjectId('60398fd37997c2feb69bfeab'), 'state': 'Kogi', 'state force population': '2,252,143'}\n",
      "{'_id': ObjectId('60398fd37997c2feb69bfeac'), 'state': 'Kwara', 'state force population': '1,467,465'}\n",
      "{'_id': ObjectId('60398fd37997c2feb69bfead'), 'state': 'Lagos', 'state force population': '6,909,301'}\n",
      "{'_id': ObjectId('60398fd37997c2feb69bfeae'), 'state': 'Lagos', 'state force population': '6,909,301'}\n",
      "{'_id': ObjectId('60398fd37997c2feb69bfeaf'), 'state': 'Nasarawa', 'state force population': '1,236,654'}\n",
      "{'_id': ObjectId('60398fd37997c2feb69bfeb0'), 'state': 'Niger', 'state force population': '1,756,668'}\n",
      "{'_id': ObjectId('60398fd37997c2feb69bfeb1'), 'state': 'Ogun', 'state force population': '2,922,932'}\n",
      "{'_id': ObjectId('60398fd37997c2feb69bfeb2'), 'state': 'Ondo', 'state force population': '2,320,211'}\n",
      "{'_id': ObjectId('60398fd37997c2feb69bfeb3'), 'state': 'Osun', 'state force population': '2,296,230'}\n",
      "{'_id': ObjectId('60398fd37997c2feb69bfeb4'), 'state': 'Oyo', 'state force population': '3,792,840'}\n",
      "{'_id': ObjectId('60398fd37997c2feb69bfeb5'), 'state': 'Plateau', 'state force population': '1,885,617'}\n",
      "{'_id': ObjectId('60398fd37997c2feb69bfeb6'), 'state': 'Rivers', 'state force population': '4,175,796'}\n",
      "{'_id': ObjectId('60398fd37997c2feb69bfeb7'), 'state': 'Sokoto', 'state force population': '1,520,392'}\n",
      "{'_id': ObjectId('60398fd37997c2feb69bfeb8'), 'state': 'Taraba', 'state force population': '2,101,774'}\n",
      "{'_id': ObjectId('60398fd37997c2feb69bfeb9'), 'state': 'Yobe', 'state force population': '1,006,850'}\n",
      "{'_id': ObjectId('60398fd37997c2feb69bfeba'), 'state': 'Zamfara', 'state force population': '1,361,270'}\n",
      "{'_id': ObjectId('60398fd37997c2feb69bfebb'), 'state': 'Fct, Abuja', 'state force population': '1,579,381'}\n"
     ]
    }
   ],
   "source": [
    "for x in col.find():\n",
    "  print(x)"
   ]
  },
  {
   "cell_type": "code",
   "execution_count": 15,
   "metadata": {},
   "outputs": [],
   "source": []
  },
  {
   "cell_type": "code",
   "execution_count": 3,
   "metadata": {},
   "outputs": [
    {
     "name": "stdout",
     "output_type": "stream",
     "text": [
      "{'_id': ObjectId('6034f5b8f7ff0dbf816fb203'), 'state': 'Sokoto', 'state force population': '1,520,392'}\n",
      "{'_id': ObjectId('60398fd37997c2feb69bfeb7'), 'state': 'Sokoto', 'state force population': '1,520,392'}\n"
     ]
    }
   ],
   "source": [
    "myquery = { \"state\": { \"$regex\": \"^S\" } }\n",
    "\n",
    "mydoc = col.find(myquery)\n",
    "\n",
    "for x in mydoc:\n",
    "  print(x)"
   ]
  },
  {
   "cell_type": "code",
   "execution_count": 17,
   "metadata": {},
   "outputs": [
    {
     "name": "stdout",
     "output_type": "stream",
     "text": [
      "{'_id': ObjectId('6034f5b8f7ff0dbf816fb1e1'), 'state': 'Abia', 'state force population': ' 1,919,458'}\n",
      "{'_id': ObjectId('60398fd37997c2feb69bfe95'), 'state': 'Abia', 'state force population': ' 1,919,458'}\n",
      "{'_id': ObjectId('6034f5b8f7ff0dbf816fb1e2'), 'state': 'Adamawa', 'state force population': '1,445,800'}\n",
      "{'_id': ObjectId('60398fd37997c2feb69bfe96'), 'state': 'Adamawa', 'state force population': '1,445,800'}\n",
      "{'_id': ObjectId('6034f5b8f7ff0dbf816fb1e3'), 'state': 'Akwa Ibom', 'state force population': '3,217,171'}\n",
      "{'_id': ObjectId('60398fd37997c2feb69bfe97'), 'state': 'Akwa Ibom', 'state force population': '3,217,171'}\n",
      "{'_id': ObjectId('6034f5b8f7ff0dbf816fb1e4'), 'state': 'Anambra', 'state force population': '3,009,646'}\n",
      "{'_id': ObjectId('6034f5b8f7ff0dbf816fb1ec'), 'state': 'Anambra', 'state force population': '3,009,646'}\n",
      "{'_id': ObjectId('60398fd37997c2feb69bfe98'), 'state': 'Anambra', 'state force population': '3,009,646'}\n",
      "{'_id': ObjectId('60398fd37997c2feb69bfea0'), 'state': 'Anambra', 'state force population': '3,009,646'}\n",
      "{'_id': ObjectId('6034f5b8f7ff0dbf816fb1e5'), 'state': 'Bauchi', 'state force population': '1,825,977'}\n",
      "{'_id': ObjectId('60398fd37997c2feb69bfe99'), 'state': 'Bauchi', 'state force population': '1,825,977'}\n",
      "{'_id': ObjectId('6034f5b8f7ff0dbf816fb1e6'), 'state': 'Bayelsa', 'state force population': '1,225,375'}\n",
      "{'_id': ObjectId('60398fd37997c2feb69bfe9a'), 'state': 'Bayelsa', 'state force population': '1,225,375'}\n",
      "{'_id': ObjectId('6034f5b8f7ff0dbf816fb1e7'), 'state': 'Benue', 'state force population': '2,368,743'}\n",
      "{'_id': ObjectId('60398fd37997c2feb69bfe9b'), 'state': 'Benue', 'state force population': '2,368,743'}\n",
      "{'_id': ObjectId('6034f5b8f7ff0dbf816fb1e8'), 'state': 'Borno', 'state force population': '2,204,832'}\n",
      "{'_id': ObjectId('60398fd37997c2feb69bfe9c'), 'state': 'Borno', 'state force population': '2,204,832'}\n",
      "{'_id': ObjectId('6034f5b8f7ff0dbf816fb1e9'), 'state': 'Cross River', 'state force population': '1,747,085'}\n",
      "{'_id': ObjectId('60398fd37997c2feb69bfe9d'), 'state': 'Cross River', 'state force population': '1,747,085'}\n",
      "{'_id': ObjectId('6034f5b8f7ff0dbf816fb1ea'), 'state': 'Delta', 'state force population': '2,852,244'}\n",
      "{'_id': ObjectId('60398fd37997c2feb69bfe9e'), 'state': 'Delta', 'state force population': '2,852,244'}\n",
      "{'_id': ObjectId('6034f5b8f7ff0dbf816fb1eb'), 'state': 'Ebonyi', 'state force population': '1,397,158'}\n",
      "{'_id': ObjectId('60398fd37997c2feb69bfe9f'), 'state': 'Ebonyi', 'state force population': '1,397,158'}\n",
      "{'_id': ObjectId('6034f5b8f7ff0dbf816fb1ed'), 'state': 'Edo', 'state force population': '1,923,837'}\n",
      "{'_id': ObjectId('60398fd37997c2feb69bfea1'), 'state': 'Edo', 'state force population': '1,923,837'}\n",
      "{'_id': ObjectId('6034f5b8f7ff0dbf816fb1ee'), 'state': 'Ekiti', 'state force population': '1,676,724'}\n",
      "{'_id': ObjectId('60398fd37997c2feb69bfea2'), 'state': 'Ekiti', 'state force population': '1,676,724'}\n",
      "{'_id': ObjectId('6034f5b8f7ff0dbf816fb1ef'), 'state': 'Enugu', 'state force population': '2,296,296'}\n",
      "{'_id': ObjectId('60398fd37997c2feb69bfea3'), 'state': 'Enugu', 'state force population': '2,296,296'}\n",
      "{'_id': ObjectId('6034f5b8f7ff0dbf816fb207'), 'state': 'Fct, Abuja', 'state force population': '1,579,381'}\n",
      "{'_id': ObjectId('60398fd37997c2feb69bfebb'), 'state': 'Fct, Abuja', 'state force population': '1,579,381'}\n",
      "{'_id': ObjectId('6034f5b8f7ff0dbf816fb1f0'), 'state': 'Gombe', 'state force population': '816,956'}\n",
      "{'_id': ObjectId('60398fd37997c2feb69bfea4'), 'state': 'Gombe', 'state force population': '816,956'}\n",
      "{'_id': ObjectId('6034f5b8f7ff0dbf816fb1f1'), 'state': 'Imo', 'state force population': '2,840,619'}\n",
      "{'_id': ObjectId('60398fd37997c2feb69bfea5'), 'state': 'Imo', 'state force population': '2,840,619'}\n",
      "{'_id': ObjectId('6034f5b8f7ff0dbf816fb1f2'), 'state': 'Jigawa', 'state force population': '1,369,716'}\n",
      "{'_id': ObjectId('60398fd37997c2feb69bfea6'), 'state': 'Jigawa', 'state force population': '1,369,716'}\n",
      "{'_id': ObjectId('6034f5b8f7ff0dbf816fb1f3'), 'state': 'Kaduna', 'state force population': '3,163,022'}\n",
      "{'_id': ObjectId('60398fd37997c2feb69bfea7'), 'state': 'Kaduna', 'state force population': '3,163,022'}\n",
      "{'_id': ObjectId('6034f5b8f7ff0dbf816fb1f4'), 'state': 'Kano', 'state force population': '3,604,743'}\n",
      "{'_id': ObjectId('60398fd37997c2feb69bfea8'), 'state': 'Kano', 'state force population': '3,604,743'}\n",
      "{'_id': ObjectId('6034f5b8f7ff0dbf816fb1f5'), 'state': 'Katsina', 'state force population': '1,667,1406'}\n",
      "{'_id': ObjectId('60398fd37997c2feb69bfea9'), 'state': 'Katsina', 'state force population': '1,667,1406'}\n",
      "{'_id': ObjectId('6034f5b8f7ff0dbf816fb1f6'), 'state': 'Kebbi', 'state force population': '1,434,057'}\n",
      "{'_id': ObjectId('60398fd37997c2feb69bfeaa'), 'state': 'Kebbi', 'state force population': '1,434,057'}\n",
      "{'_id': ObjectId('6034f5b8f7ff0dbf816fb1f7'), 'state': 'Kogi', 'state force population': '2,252,143'}\n",
      "{'_id': ObjectId('60398fd37997c2feb69bfeab'), 'state': 'Kogi', 'state force population': '2,252,143'}\n",
      "{'_id': ObjectId('6034f5b8f7ff0dbf816fb1f8'), 'state': 'Kwara', 'state force population': '1,467,465'}\n",
      "{'_id': ObjectId('60398fd37997c2feb69bfeac'), 'state': 'Kwara', 'state force population': '1,467,465'}\n",
      "{'_id': ObjectId('6034f5b8f7ff0dbf816fb1f9'), 'state': 'Lagos', 'state force population': '6,909,301'}\n",
      "{'_id': ObjectId('6034f5b8f7ff0dbf816fb1fa'), 'state': 'Lagos', 'state force population': '6,909,301'}\n",
      "{'_id': ObjectId('60398fd37997c2feb69bfead'), 'state': 'Lagos', 'state force population': '6,909,301'}\n",
      "{'_id': ObjectId('60398fd37997c2feb69bfeae'), 'state': 'Lagos', 'state force population': '6,909,301'}\n",
      "{'_id': ObjectId('6034f5b8f7ff0dbf816fb1fb'), 'state': 'Nasarawa', 'state force population': '1,236,654'}\n",
      "{'_id': ObjectId('60398fd37997c2feb69bfeaf'), 'state': 'Nasarawa', 'state force population': '1,236,654'}\n",
      "{'_id': ObjectId('6034f5b8f7ff0dbf816fb1fc'), 'state': 'Niger', 'state force population': '1,756,668'}\n",
      "{'_id': ObjectId('60398fd37997c2feb69bfeb0'), 'state': 'Niger', 'state force population': '1,756,668'}\n",
      "{'_id': ObjectId('6034f5b8f7ff0dbf816fb1fd'), 'state': 'Ogun', 'state force population': '2,922,932'}\n",
      "{'_id': ObjectId('60398fd37997c2feb69bfeb1'), 'state': 'Ogun', 'state force population': '2,922,932'}\n",
      "{'_id': ObjectId('6034f5b8f7ff0dbf816fb1fe'), 'state': 'Ondo', 'state force population': '2,320,211'}\n",
      "{'_id': ObjectId('60398fd37997c2feb69bfeb2'), 'state': 'Ondo', 'state force population': '2,320,211'}\n",
      "{'_id': ObjectId('6034f5b8f7ff0dbf816fb1ff'), 'state': 'Osun', 'state force population': '2,296,230'}\n",
      "{'_id': ObjectId('60398fd37997c2feb69bfeb3'), 'state': 'Osun', 'state force population': '2,296,230'}\n",
      "{'_id': ObjectId('6034f5b8f7ff0dbf816fb200'), 'state': 'Oyo', 'state force population': '3,792,840'}\n",
      "{'_id': ObjectId('60398fd37997c2feb69bfeb4'), 'state': 'Oyo', 'state force population': '3,792,840'}\n",
      "{'_id': ObjectId('6034f5b8f7ff0dbf816fb201'), 'state': 'Plateau', 'state force population': '1,885,617'}\n",
      "{'_id': ObjectId('60398fd37997c2feb69bfeb5'), 'state': 'Plateau', 'state force population': '1,885,617'}\n",
      "{'_id': ObjectId('6034f5b8f7ff0dbf816fb202'), 'state': 'Rivers', 'state force population': '4,175,796'}\n",
      "{'_id': ObjectId('60398fd37997c2feb69bfeb6'), 'state': 'Rivers', 'state force population': '4,175,796'}\n",
      "{'_id': ObjectId('6034f5b8f7ff0dbf816fb203'), 'state': 'Sokoto', 'state force population': '1,520,392'}\n",
      "{'_id': ObjectId('60398fd37997c2feb69bfeb7'), 'state': 'Sokoto', 'state force population': '1,520,392'}\n",
      "{'_id': ObjectId('6034f5b8f7ff0dbf816fb204'), 'state': 'Taraba', 'state force population': '2,101,774'}\n",
      "{'_id': ObjectId('60398fd37997c2feb69bfeb8'), 'state': 'Taraba', 'state force population': '2,101,774'}\n",
      "{'_id': ObjectId('6034f5b8f7ff0dbf816fb205'), 'state': 'Yobe', 'state force population': '1,006,850'}\n",
      "{'_id': ObjectId('60398fd37997c2feb69bfeb9'), 'state': 'Yobe', 'state force population': '1,006,850'}\n",
      "{'_id': ObjectId('6034f5b8f7ff0dbf816fb206'), 'state': 'Zamfara', 'state force population': '1,361,270'}\n",
      "{'_id': ObjectId('60398fd37997c2feb69bfeba'), 'state': 'Zamfara', 'state force population': '1,361,270'}\n"
     ]
    }
   ],
   "source": [
    "mydoc = col.find().sort(\"state\")\n",
    "\n",
    "for x in mydoc:\n",
    "  print(x)"
   ]
  },
  {
   "cell_type": "code",
   "execution_count": 26,
   "metadata": {},
   "outputs": [
    {
     "name": "stdout",
     "output_type": "stream",
     "text": [
      "{'_id': ObjectId('6034f5b8f7ff0dbf816fb206'), 'state': 'Zamfara', 'state force population': '1,361,270'}\n",
      "{'_id': ObjectId('60398fd37997c2feb69bfeba'), 'state': 'Zamfara', 'state force population': '1,361,270'}\n",
      "{'_id': ObjectId('6034f5b8f7ff0dbf816fb205'), 'state': 'Yobe', 'state force population': '1,006,850'}\n",
      "{'_id': ObjectId('60398fd37997c2feb69bfeb9'), 'state': 'Yobe', 'state force population': '1,006,850'}\n",
      "{'_id': ObjectId('6034f5b8f7ff0dbf816fb204'), 'state': 'Taraba', 'state force population': '2,101,774'}\n",
      "{'_id': ObjectId('60398fd37997c2feb69bfeb8'), 'state': 'Taraba', 'state force population': '2,101,774'}\n",
      "{'_id': ObjectId('6034f5b8f7ff0dbf816fb203'), 'state': 'Sokoto', 'state force population': '1,520,392'}\n",
      "{'_id': ObjectId('60398fd37997c2feb69bfeb7'), 'state': 'Sokoto', 'state force population': '1,520,392'}\n",
      "{'_id': ObjectId('6034f5b8f7ff0dbf816fb202'), 'state': 'Rivers', 'state force population': '4,175,796'}\n",
      "{'_id': ObjectId('60398fd37997c2feb69bfeb6'), 'state': 'Rivers', 'state force population': '4,175,796'}\n",
      "{'_id': ObjectId('6034f5b8f7ff0dbf816fb201'), 'state': 'Plateau', 'state force population': '1,885,617'}\n",
      "{'_id': ObjectId('60398fd37997c2feb69bfeb5'), 'state': 'Plateau', 'state force population': '1,885,617'}\n",
      "{'_id': ObjectId('6034f5b8f7ff0dbf816fb200'), 'state': 'Oyo', 'state force population': '3,792,840'}\n",
      "{'_id': ObjectId('60398fd37997c2feb69bfeb4'), 'state': 'Oyo', 'state force population': '3,792,840'}\n",
      "{'_id': ObjectId('6034f5b8f7ff0dbf816fb1ff'), 'state': 'Osun', 'state force population': '2,296,230'}\n",
      "{'_id': ObjectId('60398fd37997c2feb69bfeb3'), 'state': 'Osun', 'state force population': '2,296,230'}\n",
      "{'_id': ObjectId('6034f5b8f7ff0dbf816fb1fe'), 'state': 'Ondo', 'state force population': '2,320,211'}\n",
      "{'_id': ObjectId('60398fd37997c2feb69bfeb2'), 'state': 'Ondo', 'state force population': '2,320,211'}\n",
      "{'_id': ObjectId('6034f5b8f7ff0dbf816fb1fd'), 'state': 'Ogun', 'state force population': '2,922,932'}\n",
      "{'_id': ObjectId('60398fd37997c2feb69bfeb1'), 'state': 'Ogun', 'state force population': '2,922,932'}\n",
      "{'_id': ObjectId('6034f5b8f7ff0dbf816fb1fc'), 'state': 'Niger', 'state force population': '1,756,668'}\n",
      "{'_id': ObjectId('60398fd37997c2feb69bfeb0'), 'state': 'Niger', 'state force population': '1,756,668'}\n",
      "{'_id': ObjectId('6034f5b8f7ff0dbf816fb1fb'), 'state': 'Nasarawa', 'state force population': '1,236,654'}\n",
      "{'_id': ObjectId('60398fd37997c2feb69bfeaf'), 'state': 'Nasarawa', 'state force population': '1,236,654'}\n",
      "{'_id': ObjectId('6034f5b8f7ff0dbf816fb1f9'), 'state': 'Lagos', 'state force population': '6,909,301'}\n",
      "{'_id': ObjectId('6034f5b8f7ff0dbf816fb1fa'), 'state': 'Lagos', 'state force population': '6,909,301'}\n",
      "{'_id': ObjectId('60398fd37997c2feb69bfead'), 'state': 'Lagos', 'state force population': '6,909,301'}\n",
      "{'_id': ObjectId('60398fd37997c2feb69bfeae'), 'state': 'Lagos', 'state force population': '6,909,301'}\n",
      "{'_id': ObjectId('6034f5b8f7ff0dbf816fb1f8'), 'state': 'Kwara', 'state force population': '1,467,465'}\n",
      "{'_id': ObjectId('60398fd37997c2feb69bfeac'), 'state': 'Kwara', 'state force population': '1,467,465'}\n",
      "{'_id': ObjectId('6034f5b8f7ff0dbf816fb1f7'), 'state': 'Kogi', 'state force population': '2,252,143'}\n",
      "{'_id': ObjectId('60398fd37997c2feb69bfeab'), 'state': 'Kogi', 'state force population': '2,252,143'}\n",
      "{'_id': ObjectId('6034f5b8f7ff0dbf816fb1f6'), 'state': 'Kebbi', 'state force population': '1,434,057'}\n",
      "{'_id': ObjectId('60398fd37997c2feb69bfeaa'), 'state': 'Kebbi', 'state force population': '1,434,057'}\n",
      "{'_id': ObjectId('6034f5b8f7ff0dbf816fb1f5'), 'state': 'Katsina', 'state force population': '1,667,1406'}\n",
      "{'_id': ObjectId('60398fd37997c2feb69bfea9'), 'state': 'Katsina', 'state force population': '1,667,1406'}\n",
      "{'_id': ObjectId('6034f5b8f7ff0dbf816fb1f4'), 'state': 'Kano', 'state force population': '3,604,743'}\n",
      "{'_id': ObjectId('60398fd37997c2feb69bfea8'), 'state': 'Kano', 'state force population': '3,604,743'}\n",
      "{'_id': ObjectId('6034f5b8f7ff0dbf816fb1f3'), 'state': 'Kaduna', 'state force population': '3,163,022'}\n",
      "{'_id': ObjectId('60398fd37997c2feb69bfea7'), 'state': 'Kaduna', 'state force population': '3,163,022'}\n",
      "{'_id': ObjectId('6034f5b8f7ff0dbf816fb1f2'), 'state': 'Jigawa', 'state force population': '1,369,716'}\n",
      "{'_id': ObjectId('60398fd37997c2feb69bfea6'), 'state': 'Jigawa', 'state force population': '1,369,716'}\n",
      "{'_id': ObjectId('6034f5b8f7ff0dbf816fb1f1'), 'state': 'Imo', 'state force population': '2,840,619'}\n",
      "{'_id': ObjectId('60398fd37997c2feb69bfea5'), 'state': 'Imo', 'state force population': '2,840,619'}\n",
      "{'_id': ObjectId('6034f5b8f7ff0dbf816fb1f0'), 'state': 'Gombe', 'state force population': '816,956'}\n",
      "{'_id': ObjectId('60398fd37997c2feb69bfea4'), 'state': 'Gombe', 'state force population': '816,956'}\n",
      "{'_id': ObjectId('6034f5b8f7ff0dbf816fb207'), 'state': 'Fct, Abuja', 'state force population': '1,579,381'}\n",
      "{'_id': ObjectId('60398fd37997c2feb69bfebb'), 'state': 'Fct, Abuja', 'state force population': '1,579,381'}\n",
      "{'_id': ObjectId('6034f5b8f7ff0dbf816fb1ef'), 'state': 'Enugu', 'state force population': '2,296,296'}\n",
      "{'_id': ObjectId('60398fd37997c2feb69bfea3'), 'state': 'Enugu', 'state force population': '2,296,296'}\n",
      "{'_id': ObjectId('6034f5b8f7ff0dbf816fb1ee'), 'state': 'Ekiti', 'state force population': '1,676,724'}\n",
      "{'_id': ObjectId('60398fd37997c2feb69bfea2'), 'state': 'Ekiti', 'state force population': '1,676,724'}\n",
      "{'_id': ObjectId('6034f5b8f7ff0dbf816fb1ed'), 'state': 'Edo', 'state force population': '1,923,837'}\n",
      "{'_id': ObjectId('60398fd37997c2feb69bfea1'), 'state': 'Edo', 'state force population': '1,923,837'}\n",
      "{'_id': ObjectId('6034f5b8f7ff0dbf816fb1eb'), 'state': 'Ebonyi', 'state force population': '1,397,158'}\n",
      "{'_id': ObjectId('60398fd37997c2feb69bfe9f'), 'state': 'Ebonyi', 'state force population': '1,397,158'}\n",
      "{'_id': ObjectId('6034f5b8f7ff0dbf816fb1ea'), 'state': 'Delta', 'state force population': '2,852,244'}\n",
      "{'_id': ObjectId('60398fd37997c2feb69bfe9e'), 'state': 'Delta', 'state force population': '2,852,244'}\n",
      "{'_id': ObjectId('6034f5b8f7ff0dbf816fb1e9'), 'state': 'Cross River', 'state force population': '1,747,085'}\n",
      "{'_id': ObjectId('60398fd37997c2feb69bfe9d'), 'state': 'Cross River', 'state force population': '1,747,085'}\n",
      "{'_id': ObjectId('6034f5b8f7ff0dbf816fb1e8'), 'state': 'Borno', 'state force population': '2,204,832'}\n",
      "{'_id': ObjectId('60398fd37997c2feb69bfe9c'), 'state': 'Borno', 'state force population': '2,204,832'}\n",
      "{'_id': ObjectId('6034f5b8f7ff0dbf816fb1e7'), 'state': 'Benue', 'state force population': '2,368,743'}\n",
      "{'_id': ObjectId('60398fd37997c2feb69bfe9b'), 'state': 'Benue', 'state force population': '2,368,743'}\n",
      "{'_id': ObjectId('6034f5b8f7ff0dbf816fb1e6'), 'state': 'Bayelsa', 'state force population': '1,225,375'}\n",
      "{'_id': ObjectId('60398fd37997c2feb69bfe9a'), 'state': 'Bayelsa', 'state force population': '1,225,375'}\n",
      "{'_id': ObjectId('6034f5b8f7ff0dbf816fb1e5'), 'state': 'Bauchi', 'state force population': '1,825,977'}\n",
      "{'_id': ObjectId('60398fd37997c2feb69bfe99'), 'state': 'Bauchi', 'state force population': '1,825,977'}\n",
      "{'_id': ObjectId('6034f5b8f7ff0dbf816fb1e4'), 'state': 'Anambra', 'state force population': '3,009,646'}\n",
      "{'_id': ObjectId('6034f5b8f7ff0dbf816fb1ec'), 'state': 'Anambra', 'state force population': '3,009,646'}\n",
      "{'_id': ObjectId('60398fd37997c2feb69bfe98'), 'state': 'Anambra', 'state force population': '3,009,646'}\n",
      "{'_id': ObjectId('60398fd37997c2feb69bfea0'), 'state': 'Anambra', 'state force population': '3,009,646'}\n",
      "{'_id': ObjectId('6034f5b8f7ff0dbf816fb1e3'), 'state': 'Akwa Ibom', 'state force population': '3,217,171'}\n",
      "{'_id': ObjectId('60398fd37997c2feb69bfe97'), 'state': 'Akwa Ibom', 'state force population': '3,217,171'}\n",
      "{'_id': ObjectId('6034f5b8f7ff0dbf816fb1e2'), 'state': 'Adamawa', 'state force population': '1,445,800'}\n",
      "{'_id': ObjectId('60398fd37997c2feb69bfe96'), 'state': 'Adamawa', 'state force population': '1,445,800'}\n",
      "{'_id': ObjectId('6034f5b8f7ff0dbf816fb1e1'), 'state': 'Abia', 'state force population': ' 1,919,458'}\n",
      "{'_id': ObjectId('60398fd37997c2feb69bfe95'), 'state': 'Abia', 'state force population': ' 1,919,458'}\n"
     ]
    }
   ],
   "source": [
    "mydoc = col.find().sort(\"state\", -1)\n",
    "\n",
    "for x in mydoc:\n",
    "  print(x)"
   ]
  },
  {
   "cell_type": "code",
   "execution_count": 27,
   "metadata": {},
   "outputs": [
    {
     "data": {
      "text/plain": [
       "<pymongo.results.DeleteResult at 0x171e2403a40>"
      ]
     },
     "execution_count": 27,
     "metadata": {},
     "output_type": "execute_result"
    }
   ],
   "source": [
    "myquery = { \"address\": \"Mountain 21\" }\n",
    "col.delete_one(myquery)\n"
   ]
  },
  {
   "cell_type": "code",
   "execution_count": 28,
   "metadata": {},
   "outputs": [
    {
     "name": "stdout",
     "output_type": "stream",
     "text": [
      "0  documents deleted.\n"
     ]
    }
   ],
   "source": [
    "myquery = { \"address\": {\"$regex\": \"^S\"} }\n",
    "\n",
    "x = col.delete_many(myquery)\n",
    "\n",
    "print(x.deleted_count, \" documents deleted.\")"
   ]
  },
  {
   "cell_type": "code",
   "execution_count": 29,
   "metadata": {},
   "outputs": [
    {
     "name": "stdout",
     "output_type": "stream",
     "text": [
      "0  documents deleted.\n"
     ]
    }
   ],
   "source": [
    "myquery = { \"address\": {\"$regex\": \"^O\"} }\n",
    "\n",
    "x = col.delete_many(myquery)\n",
    "\n",
    "print(x.deleted_count, \" documents deleted.\")"
   ]
  },
  {
   "cell_type": "code",
   "execution_count": 32,
   "metadata": {},
   "outputs": [
    {
     "name": "stdout",
     "output_type": "stream",
     "text": [
      "0  documents deleted.\n",
      "0  documents deleted.\n",
      "0  documents deleted.\n",
      "0  documents deleted.\n",
      "0  documents deleted.\n",
      "0  documents deleted.\n"
     ]
    }
   ],
   "source": [
    "myquery = { \"address\": {\"$regex\": \"^C\"} }\n",
    "\n",
    "x = col.delete_many(myquery)\n",
    "\n",
    "print(x.deleted_count, \" documents deleted.\")\n",
    "myquery = { \"address\": {\"$regex\": \"^V\"} }\n",
    "\n",
    "x = col.delete_many(myquery)\n",
    "\n",
    "print(x.deleted_count, \" documents deleted.\")\n",
    "\n",
    "myquery = { \"address\": {\"$regex\": \"^G\"} }\n",
    "\n",
    "x = col.delete_many(myquery)\n",
    "\n",
    "print(x.deleted_count, \" documents deleted.\")\n",
    "\n",
    "myquery = { \"address\": {\"$regex\": \"^Y\"} }\n",
    "\n",
    "x = col.delete_many(myquery)\n",
    "\n",
    "print(x.deleted_count, \" documents deleted.\")\n",
    "\n",
    "myquery = { \"address\": {\"$regex\": \"^P\"} }\n",
    "\n",
    "x = col.delete_many(myquery)\n",
    "\n",
    "print(x.deleted_count, \" documents deleted.\")\n",
    "\n",
    "myquery = { \"address\": {\"$regex\": \"^M\"} }\n",
    "\n",
    "x = col.delete_many(myquery)\n",
    "\n",
    "print(x.deleted_count, \" documents deleted.\")"
   ]
  }
 ],
 "metadata": {
  "kernelspec": {
   "display_name": "Python 3",
   "language": "python",
   "name": "python3"
  },
  "language_info": {
   "codemirror_mode": {
    "name": "ipython",
    "version": 3
   },
   "file_extension": ".py",
   "mimetype": "text/x-python",
   "name": "python",
   "nbconvert_exporter": "python",
   "pygments_lexer": "ipython3",
   "version": "3.8.5"
  }
 },
 "nbformat": 4,
 "nbformat_minor": 4
}
