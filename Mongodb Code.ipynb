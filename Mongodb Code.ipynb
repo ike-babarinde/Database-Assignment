{
 "cells": [
  {
   "cell_type": "code",
   "execution_count": 1,
   "metadata": {},
   "outputs": [],
   "source": [
    "import pymongo"
   ]
  },
  {
   "cell_type": "code",
   "execution_count": 2,
   "metadata": {},
   "outputs": [],
   "source": [
    "myclient = pymongo.MongoClient(\"mongodb://localhost:27017\")\n"
   ]
  },
  {
   "cell_type": "code",
   "execution_count": 3,
   "metadata": {},
   "outputs": [],
   "source": [
    "from pymongo import MongoClient\n",
    "client = MongoClient()"
   ]
  },
  {
   "cell_type": "code",
   "execution_count": 6,
   "metadata": {},
   "outputs": [
    {
     "name": "stdout",
     "output_type": "stream",
     "text": [
      "[ObjectId('605d9cb3a98d5483fe21f5e0'), ObjectId('605d9cb3a98d5483fe21f5e1'), ObjectId('605d9cb3a98d5483fe21f5e2'), ObjectId('605d9cb3a98d5483fe21f5e3'), ObjectId('605d9cb3a98d5483fe21f5e4'), ObjectId('605d9cb3a98d5483fe21f5e5'), ObjectId('605d9cb3a98d5483fe21f5e6'), ObjectId('605d9cb3a98d5483fe21f5e7'), ObjectId('605d9cb3a98d5483fe21f5e8'), ObjectId('605d9cb3a98d5483fe21f5e9'), ObjectId('605d9cb3a98d5483fe21f5ea'), ObjectId('605d9cb3a98d5483fe21f5eb'), ObjectId('605d9cb3a98d5483fe21f5ec'), ObjectId('605d9cb3a98d5483fe21f5ed'), ObjectId('605d9cb3a98d5483fe21f5ee'), ObjectId('605d9cb3a98d5483fe21f5ef'), ObjectId('605d9cb3a98d5483fe21f5f0'), ObjectId('605d9cb3a98d5483fe21f5f1'), ObjectId('605d9cb3a98d5483fe21f5f2'), ObjectId('605d9cb3a98d5483fe21f5f3'), ObjectId('605d9cb3a98d5483fe21f5f4'), ObjectId('605d9cb3a98d5483fe21f5f5'), ObjectId('605d9cb3a98d5483fe21f5f6'), ObjectId('605d9cb3a98d5483fe21f5f7'), ObjectId('605d9cb3a98d5483fe21f5f8'), ObjectId('605d9cb3a98d5483fe21f5f9'), ObjectId('605d9cb3a98d5483fe21f5fa'), ObjectId('605d9cb3a98d5483fe21f5fb'), ObjectId('605d9cb3a98d5483fe21f5fc'), ObjectId('605d9cb3a98d5483fe21f5fd'), ObjectId('605d9cb3a98d5483fe21f5fe'), ObjectId('605d9cb3a98d5483fe21f5ff'), ObjectId('605d9cb3a98d5483fe21f600'), ObjectId('605d9cb3a98d5483fe21f601'), ObjectId('605d9cb3a98d5483fe21f602'), ObjectId('605d9cb3a98d5483fe21f603'), ObjectId('605d9cb3a98d5483fe21f604'), ObjectId('605d9cb3a98d5483fe21f605'), ObjectId('605d9cb3a98d5483fe21f606')]\n"
     ]
    }
   ],
   "source": [
    "client = pymongo.MongoClient(\"mongodb://ikebabarinde:KZ5sLBjBkDn7GpL3OaBwkW22xoKrghRsfLpN562Zgye83w2CFz0pKPc1Fomoord2AQ8MDXmquYnV5okzbtxm7g==@ikebabarinde.mongo.cosmos.azure.com:10255/?ssl=true&replicaSet=globaldb&retrywrites=false&maxIdleTimeMS=120000&appName=@ikebabarinde@\")\n",
    "mydb = client[\"mydatabase\"]\n",
    "col = mydb[\"states\"]\n",
    "mylist = [\n",
    "  { \"state\": \"Abia\", \"state force population\": \" 1,919,458\" },\n",
    "  { \"state\": \"Adamawa\", \"state force population\": \"1,445,800\"}, \n",
    "    { \"state\": \"Akwa Ibom\", \"state force population\": \"3,217,171\"},\n",
    "    { \"state\": \"Anambra\", \"state force population\": \"3,009,646\"},\n",
    "        { \"state\": \"Bauchi\", \"state force population\": \"1,825,977\"},\n",
    "        { \"state\": \"Bayelsa\", \"state force population\": \"1,225,375\"},\n",
    "        { \"state\": \"Benue\", \"state force population\": \"2,368,743\"},\n",
    "        { \"state\": \"Borno\", \"state force population\": \"2,204,832\"},\n",
    "        { \"state\": \"Cross River\", \"state force population\": \"1,747,085\"},\n",
    "        { \"state\": \"Delta\", \"state force population\": \"2,852,244\"},\n",
    "        { \"state\": \"Ebonyi\", \"state force population\": \"1,397,158\"},\n",
    "        { \"state\": \"Anambra\", \"state force population\": \"3,009,646\"},\n",
    "        { \"state\": \"Edo\", \"state force population\": \"1,923,837\"},\n",
    "        { \"state\": \"Ekiti\", \"state force population\": \"1,676,724\"},\n",
    "        { \"state\": \"Enugu\", \"state force population\": \"2,296,296\"},\n",
    "        { \"state\": \"Gombe\", \"state force population\": \"816,956\"},\n",
    "        { \"state\": \"Imo\", \"state force population\": \"2,840,619\"},\n",
    "        { \"state\": \"Jigawa\", \"state force population\": \"1,369,716\"},\n",
    "        { \"state\": \"Kaduna\", \"state force population\": \"3,163,022\"},\n",
    "        { \"state\": \"Kano\", \"state force population\": \"3,604,743\"},\n",
    "        { \"state\": \"Katsina\", \"state force population\": \"1,667,1406\"},\n",
    "        { \"state\": \"Kebbi\", \"state force population\": \"1,434,057\"},\n",
    "        { \"state\": \"Kogi\", \"state force population\": \"2,252,143\"},\n",
    "        { \"state\": \"Kwara\", \"state force population\": \"1,467,465\"},\n",
    "        { \"state\": \"Lagos\", \"state force population\": \"6,909,301\"},\n",
    "        { \"state\": \"Lagos\", \"state force population\": \"6,909,301\"},\n",
    "        { \"state\": \"Nasarawa\", \"state force population\": \"1,236,654\"},\n",
    "        { \"state\": \"Niger\", \"state force population\": \"1,756,668\"},\n",
    "        { \"state\": \"Ogun\", \"state force population\": \"2,922,932\"},\n",
    "        { \"state\": \"Ondo\", \"state force population\": \"2,320,211\"},\n",
    "        { \"state\": \"Osun\", \"state force population\": \"2,296,230\"},\n",
    "        { \"state\": \"Oyo\", \"state force population\": \"3,792,840\"},\n",
    "        { \"state\": \"Plateau\", \"state force population\": \"1,885,617\"},\n",
    "        { \"state\": \"Rivers\", \"state force population\": \"4,175,796\"},\n",
    "        { \"state\": \"Sokoto\", \"state force population\": \"1,520,392\"},\n",
    "        { \"state\": \"Taraba\", \"state force population\": \"2,101,774\"},\n",
    "    { \"state\": \"Yobe\", \"state force population\": \"1,006,850\"},\n",
    "    { \"state\": \"Zamfara\", \"state force population\": \"1,361,270\"},\n",
    "    { \"state\": \"Fct, Abuja\", \"state force population\": \"1,579,381\"},\n",
    "]\n",
    "    \n",
    "x = col.insert_many(mylist)\n",
    "\n",
    "#print list of the _id values of the inserted documents:\n",
    "print(x.inserted_ids)"
   ]
  },
  {
   "cell_type": "code",
   "execution_count": 7,
   "metadata": {},
   "outputs": [
    {
     "name": "stdout",
     "output_type": "stream",
     "text": [
      "{'_id': ObjectId('604555595af809cd6ebf3d04'), 'state': 'Abia', 'state force population': ' 1,919,458'}\n",
      "{'_id': ObjectId('604555595af809cd6ebf3d05'), 'state': 'Adamawa', 'state force population': '1,445,800'}\n",
      "{'_id': ObjectId('604555595af809cd6ebf3d06'), 'state': 'Akwa Ibom', 'state force population': '3,217,171'}\n",
      "{'_id': ObjectId('604555595af809cd6ebf3d07'), 'state': 'Anambra', 'state force population': '3,009,646'}\n",
      "{'_id': ObjectId('604555595af809cd6ebf3d08'), 'state': 'Bauchi', 'state force population': '1,825,977'}\n",
      "{'_id': ObjectId('604555595af809cd6ebf3d09'), 'state': 'Bayelsa', 'state force population': '1,225,375'}\n",
      "{'_id': ObjectId('604555595af809cd6ebf3d0a'), 'state': 'Benue', 'state force population': '2,368,743'}\n",
      "{'_id': ObjectId('604555595af809cd6ebf3d0b'), 'state': 'Borno', 'state force population': '2,204,832'}\n",
      "{'_id': ObjectId('604555595af809cd6ebf3d0c'), 'state': 'Cross River', 'state force population': '1,747,085'}\n",
      "{'_id': ObjectId('604555595af809cd6ebf3d0d'), 'state': 'Delta', 'state force population': '2,852,244'}\n",
      "{'_id': ObjectId('604555595af809cd6ebf3d0e'), 'state': 'Ebonyi', 'state force population': '1,397,158'}\n",
      "{'_id': ObjectId('604555595af809cd6ebf3d0f'), 'state': 'Anambra', 'state force population': '3,009,646'}\n",
      "{'_id': ObjectId('604555595af809cd6ebf3d10'), 'state': 'Edo', 'state force population': '1,923,837'}\n",
      "{'_id': ObjectId('604555595af809cd6ebf3d11'), 'state': 'Ekiti', 'state force population': '1,676,724'}\n",
      "{'_id': ObjectId('604555595af809cd6ebf3d12'), 'state': 'Enugu', 'state force population': '2,296,296'}\n",
      "{'_id': ObjectId('604555595af809cd6ebf3d13'), 'state': 'Gombe', 'state force population': '816,956'}\n",
      "{'_id': ObjectId('604555595af809cd6ebf3d14'), 'state': 'Imo', 'state force population': '2,840,619'}\n",
      "{'_id': ObjectId('604555595af809cd6ebf3d15'), 'state': 'Jigawa', 'state force population': '1,369,716'}\n",
      "{'_id': ObjectId('604555595af809cd6ebf3d16'), 'state': 'Kaduna', 'state force population': '3,163,022'}\n",
      "{'_id': ObjectId('604555595af809cd6ebf3d17'), 'state': 'Kano', 'state force population': '3,604,743'}\n",
      "{'_id': ObjectId('604555595af809cd6ebf3d18'), 'state': 'Katsina', 'state force population': '1,667,1406'}\n",
      "{'_id': ObjectId('604555595af809cd6ebf3d19'), 'state': 'Kebbi', 'state force population': '1,434,057'}\n",
      "{'_id': ObjectId('604555595af809cd6ebf3d1a'), 'state': 'Kogi', 'state force population': '2,252,143'}\n",
      "{'_id': ObjectId('604555595af809cd6ebf3d1b'), 'state': 'Kwara', 'state force population': '1,467,465'}\n",
      "{'_id': ObjectId('604555595af809cd6ebf3d1c'), 'state': 'Lagos', 'state force population': '6,909,301'}\n",
      "{'_id': ObjectId('604555595af809cd6ebf3d1d'), 'state': 'Lagos', 'state force population': '6,909,301'}\n",
      "{'_id': ObjectId('604555595af809cd6ebf3d1e'), 'state': 'Nasarawa', 'state force population': '1,236,654'}\n",
      "{'_id': ObjectId('604555595af809cd6ebf3d1f'), 'state': 'Niger', 'state force population': '1,756,668'}\n",
      "{'_id': ObjectId('604555595af809cd6ebf3d20'), 'state': 'Ogun', 'state force population': '2,922,932'}\n",
      "{'_id': ObjectId('604555595af809cd6ebf3d21'), 'state': 'Ondo', 'state force population': '2,320,211'}\n",
      "{'_id': ObjectId('604555595af809cd6ebf3d22'), 'state': 'Osun', 'state force population': '2,296,230'}\n",
      "{'_id': ObjectId('604555595af809cd6ebf3d23'), 'state': 'Oyo', 'state force population': '3,792,840'}\n",
      "{'_id': ObjectId('604555595af809cd6ebf3d24'), 'state': 'Plateau', 'state force population': '1,885,617'}\n",
      "{'_id': ObjectId('604555595af809cd6ebf3d25'), 'state': 'Rivers', 'state force population': '4,175,796'}\n",
      "{'_id': ObjectId('604555595af809cd6ebf3d26'), 'state': 'Sokoto', 'state force population': '1,520,392'}\n",
      "{'_id': ObjectId('604555595af809cd6ebf3d27'), 'state': 'Taraba', 'state force population': '2,101,774'}\n",
      "{'_id': ObjectId('604555595af809cd6ebf3d28'), 'state': 'Yobe', 'state force population': '1,006,850'}\n",
      "{'_id': ObjectId('604555595af809cd6ebf3d29'), 'state': 'Zamfara', 'state force population': '1,361,270'}\n",
      "{'_id': ObjectId('604555595af809cd6ebf3d2a'), 'state': 'Fct, Abuja', 'state force population': '1,579,381'}\n",
      "{'_id': ObjectId('605d9cb3a98d5483fe21f5e0'), 'state': 'Abia', 'state force population': ' 1,919,458'}\n",
      "{'_id': ObjectId('605d9cb3a98d5483fe21f5e1'), 'state': 'Adamawa', 'state force population': '1,445,800'}\n",
      "{'_id': ObjectId('605d9cb3a98d5483fe21f5e2'), 'state': 'Akwa Ibom', 'state force population': '3,217,171'}\n",
      "{'_id': ObjectId('605d9cb3a98d5483fe21f5e3'), 'state': 'Anambra', 'state force population': '3,009,646'}\n",
      "{'_id': ObjectId('605d9cb3a98d5483fe21f5e4'), 'state': 'Bauchi', 'state force population': '1,825,977'}\n",
      "{'_id': ObjectId('605d9cb3a98d5483fe21f5e5'), 'state': 'Bayelsa', 'state force population': '1,225,375'}\n",
      "{'_id': ObjectId('605d9cb3a98d5483fe21f5e6'), 'state': 'Benue', 'state force population': '2,368,743'}\n",
      "{'_id': ObjectId('605d9cb3a98d5483fe21f5e7'), 'state': 'Borno', 'state force population': '2,204,832'}\n",
      "{'_id': ObjectId('605d9cb3a98d5483fe21f5e8'), 'state': 'Cross River', 'state force population': '1,747,085'}\n",
      "{'_id': ObjectId('605d9cb3a98d5483fe21f5e9'), 'state': 'Delta', 'state force population': '2,852,244'}\n",
      "{'_id': ObjectId('605d9cb3a98d5483fe21f5ea'), 'state': 'Ebonyi', 'state force population': '1,397,158'}\n",
      "{'_id': ObjectId('605d9cb3a98d5483fe21f5eb'), 'state': 'Anambra', 'state force population': '3,009,646'}\n",
      "{'_id': ObjectId('605d9cb3a98d5483fe21f5ec'), 'state': 'Edo', 'state force population': '1,923,837'}\n",
      "{'_id': ObjectId('605d9cb3a98d5483fe21f5ed'), 'state': 'Ekiti', 'state force population': '1,676,724'}\n",
      "{'_id': ObjectId('605d9cb3a98d5483fe21f5ee'), 'state': 'Enugu', 'state force population': '2,296,296'}\n",
      "{'_id': ObjectId('605d9cb3a98d5483fe21f5ef'), 'state': 'Gombe', 'state force population': '816,956'}\n",
      "{'_id': ObjectId('605d9cb3a98d5483fe21f5f0'), 'state': 'Imo', 'state force population': '2,840,619'}\n",
      "{'_id': ObjectId('605d9cb3a98d5483fe21f5f1'), 'state': 'Jigawa', 'state force population': '1,369,716'}\n",
      "{'_id': ObjectId('605d9cb3a98d5483fe21f5f2'), 'state': 'Kaduna', 'state force population': '3,163,022'}\n",
      "{'_id': ObjectId('605d9cb3a98d5483fe21f5f3'), 'state': 'Kano', 'state force population': '3,604,743'}\n",
      "{'_id': ObjectId('605d9cb3a98d5483fe21f5f4'), 'state': 'Katsina', 'state force population': '1,667,1406'}\n",
      "{'_id': ObjectId('605d9cb3a98d5483fe21f5f5'), 'state': 'Kebbi', 'state force population': '1,434,057'}\n",
      "{'_id': ObjectId('605d9cb3a98d5483fe21f5f6'), 'state': 'Kogi', 'state force population': '2,252,143'}\n",
      "{'_id': ObjectId('605d9cb3a98d5483fe21f5f7'), 'state': 'Kwara', 'state force population': '1,467,465'}\n",
      "{'_id': ObjectId('605d9cb3a98d5483fe21f5f8'), 'state': 'Lagos', 'state force population': '6,909,301'}\n",
      "{'_id': ObjectId('605d9cb3a98d5483fe21f5f9'), 'state': 'Lagos', 'state force population': '6,909,301'}\n",
      "{'_id': ObjectId('605d9cb3a98d5483fe21f5fa'), 'state': 'Nasarawa', 'state force population': '1,236,654'}\n",
      "{'_id': ObjectId('605d9cb3a98d5483fe21f5fb'), 'state': 'Niger', 'state force population': '1,756,668'}\n",
      "{'_id': ObjectId('605d9cb3a98d5483fe21f5fc'), 'state': 'Ogun', 'state force population': '2,922,932'}\n",
      "{'_id': ObjectId('605d9cb3a98d5483fe21f5fd'), 'state': 'Ondo', 'state force population': '2,320,211'}\n",
      "{'_id': ObjectId('605d9cb3a98d5483fe21f5fe'), 'state': 'Osun', 'state force population': '2,296,230'}\n",
      "{'_id': ObjectId('605d9cb3a98d5483fe21f5ff'), 'state': 'Oyo', 'state force population': '3,792,840'}\n",
      "{'_id': ObjectId('605d9cb3a98d5483fe21f600'), 'state': 'Plateau', 'state force population': '1,885,617'}\n",
      "{'_id': ObjectId('605d9cb3a98d5483fe21f601'), 'state': 'Rivers', 'state force population': '4,175,796'}\n",
      "{'_id': ObjectId('605d9cb3a98d5483fe21f602'), 'state': 'Sokoto', 'state force population': '1,520,392'}\n",
      "{'_id': ObjectId('605d9cb3a98d5483fe21f603'), 'state': 'Taraba', 'state force population': '2,101,774'}\n",
      "{'_id': ObjectId('605d9cb3a98d5483fe21f604'), 'state': 'Yobe', 'state force population': '1,006,850'}\n",
      "{'_id': ObjectId('605d9cb3a98d5483fe21f605'), 'state': 'Zamfara', 'state force population': '1,361,270'}\n",
      "{'_id': ObjectId('605d9cb3a98d5483fe21f606'), 'state': 'Fct, Abuja', 'state force population': '1,579,381'}\n"
     ]
    }
   ],
   "source": [
    "for x in col.find():\n",
    "  print(x)"
   ]
  },
  {
   "cell_type": "code",
   "execution_count": 8,
   "metadata": {},
   "outputs": [
    {
     "name": "stdout",
     "output_type": "stream",
     "text": [
      "{'_id': ObjectId('604555595af809cd6ebf3d26'), 'state': 'Sokoto', 'state force population': '1,520,392'}\n",
      "{'_id': ObjectId('605d9cb3a98d5483fe21f602'), 'state': 'Sokoto', 'state force population': '1,520,392'}\n"
     ]
    }
   ],
   "source": [
    "myquery = { \"state\": { \"$regex\": \"^S\" } }\n",
    "\n",
    "mydoc = col.find(myquery)\n",
    "\n",
    "for x in mydoc:\n",
    "  print(x)"
   ]
  },
  {
   "cell_type": "code",
   "execution_count": null,
   "metadata": {},
   "outputs": [],
   "source": []
  }
 ],
 "metadata": {
  "kernelspec": {
   "display_name": "Python 3",
   "language": "python",
   "name": "python3"
  },
  "language_info": {
   "codemirror_mode": {
    "name": "ipython",
    "version": 3
   },
   "file_extension": ".py",
   "mimetype": "text/x-python",
   "name": "python",
   "nbconvert_exporter": "python",
   "pygments_lexer": "ipython3",
   "version": "3.8.5"
  }
 },
 "nbformat": 4,
 "nbformat_minor": 4
}
